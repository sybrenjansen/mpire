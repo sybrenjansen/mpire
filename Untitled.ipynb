{
 "cells": [
  {
   "cell_type": "code",
   "execution_count": 1,
   "id": "e075a3ab-b05c-4a52-b742-1e15c5f6ca5b",
   "metadata": {},
   "outputs": [
    {
     "data": {
      "text/plain": [
       "'4.62.1'"
      ]
     },
     "execution_count": 1,
     "metadata": {},
     "output_type": "execute_result"
    },
    {
     "name": "stdout",
     "output_type": "stream",
     "text": [
      "time: 8.49 ms (started: 2021-11-22 13:07:31 +01:00)\n"
     ]
    }
   ],
   "source": [
    "import tqdm\n",
    "\n",
    "tqdm.version.__version__"
   ]
  },
  {
   "cell_type": "code",
   "execution_count": 2,
   "id": "5e2cfcf3-c97b-4634-a5f9-7ad7e2636e9b",
   "metadata": {},
   "outputs": [
    {
     "name": "stdout",
     "output_type": "stream",
     "text": [
      "time: 185 ms (started: 2021-11-22 13:07:31 +01:00)\n"
     ]
    }
   ],
   "source": [
    "from mpire import WorkerPool\n",
    "\n",
    "\n",
    "def square(x):\n",
    "    for _ in range(1_000_000):\n",
    "        a = 3\n",
    "        a *= 5\n",
    "        a /= 5\n",
    "    return x * x"
   ]
  },
  {
   "cell_type": "code",
   "execution_count": 3,
   "id": "a0452acb-1ecf-4a07-8b89-d44e11391b57",
   "metadata": {},
   "outputs": [
    {
     "name": "stdout",
     "output_type": "stream",
     "text": [
      "time: 153 µs (started: 2021-11-22 13:07:31 +01:00)\n"
     ]
    }
   ],
   "source": [
    "# import logging\n",
    "\n",
    "# logger = logging.getLogger('mpire')\n",
    "# logging.debug(\"test\")\n",
    "# logger.setLevel(logging.DEBUG)\n",
    "# logger.debug(\"test\")"
   ]
  },
  {
   "cell_type": "code",
   "execution_count": 4,
   "id": "7c4b2616-7c38-4c71-bea6-575394e32ce3",
   "metadata": {},
   "outputs": [
    {
     "data": {
      "application/vnd.jupyter.widget-view+json": {
       "model_id": "61900730c2a54b929cbb2610ebd69508",
       "version_major": 2,
       "version_minor": 0
      },
      "text/plain": [
       "  0%|                                                                                        | 0/500 [00:00<?,…"
      ]
     },
     "metadata": {},
     "output_type": "display_data"
    },
    {
     "name": "stdout",
     "output_type": "stream",
     "text": [
      "time: 28.9 s (started: 2021-11-22 13:07:31 +01:00)\n"
     ]
    }
   ],
   "source": [
    "with WorkerPool(4, start_method='fork') as pool:\n",
    "    pool.map(square, range(500), progress_bar=True)"
   ]
  },
  {
   "cell_type": "code",
   "execution_count": 5,
   "id": "e4b6afd9-77ab-4f81-9189-bf889654fd20",
   "metadata": {},
   "outputs": [
    {
     "name": "stdout",
     "output_type": "stream",
     "text": [
      "time: 802 µs (started: 2021-11-22 13:08:00 +01:00)\n"
     ]
    }
   ],
   "source": [
    "def dispatch(wid, x):\n",
    "    with WorkerPool(2, daemon=False) as pool:\n",
    "        pool.map(square, range(x), progress_bar=True, progress_bar_position=wid + 1)"
   ]
  },
  {
   "cell_type": "code",
   "execution_count": 6,
   "id": "a1bb7abe-a08d-45c1-9ec0-e15d995f8fb6",
   "metadata": {},
   "outputs": [
    {
     "data": {
      "application/vnd.jupyter.widget-view+json": {
       "model_id": "bc72e390fde840879df80c67a24dc355",
       "version_major": 2,
       "version_minor": 0
      },
      "text/plain": [
       "  0%|                                                                                          | 0/2 [00:00<?,…"
      ]
     },
     "metadata": {},
     "output_type": "display_data"
    },
    {
     "name": "stdout",
     "output_type": "stream",
     "text": [
      "  "
     ]
    },
    {
     "data": {
      "application/vnd.jupyter.widget-view+json": {
       "model_id": "cce8527760a74948b831bc8458a8e7c1",
       "version_major": 2,
       "version_minor": 0
      },
      "text/plain": [
       "  0%|                                                                                        | 0/100 [00:00<?,…"
      ]
     },
     "metadata": {},
     "output_type": "display_data"
    },
    {
     "data": {
      "application/vnd.jupyter.widget-view+json": {
       "model_id": "0a14d77617f14679b41a50c93deb5604",
       "version_major": 2,
       "version_minor": 0
      },
      "text/plain": [
       "  0%|                                                                                        | 0/100 [00:00<?,…"
      ]
     },
     "metadata": {},
     "output_type": "display_data"
    },
    {
     "name": "stdout",
     "output_type": "stream",
     "text": [
      "time: 14.7 s (started: 2021-11-22 13:08:00 +01:00)\n"
     ]
    }
   ],
   "source": [
    "with WorkerPool(2, daemon=False, pass_worker_id=True) as pool:\n",
    "    pool.map(dispatch, [100, 100], progress_bar=True)"
   ]
  },
  {
   "cell_type": "code",
   "execution_count": 7,
   "id": "c8390bc4-56a9-4ac5-9a18-73e5a853bda9",
   "metadata": {},
   "outputs": [
    {
     "name": "stdout",
     "output_type": "stream",
     "text": [
      "time: 795 µs (started: 2021-11-22 13:08:14 +01:00)\n"
     ]
    }
   ],
   "source": [
    "def square_2(x):\n",
    "    import time\n",
    "    time.sleep(0.1)\n",
    "    if x == 99:\n",
    "        raise ValueError"
   ]
  },
  {
   "cell_type": "code",
   "execution_count": 9,
   "id": "41db0e46-b329-42d1-9711-c894c0e55de4",
   "metadata": {},
   "outputs": [
    {
     "data": {
      "application/vnd.jupyter.widget-view+json": {
       "model_id": "6d931dc54cd34f8d8e7eda9d33624054",
       "version_major": 2,
       "version_minor": 0
      },
      "text/plain": [
       "  0%|                                                                                        | 0/100 [00:00<?,…"
      ]
     },
     "metadata": {},
     "output_type": "display_data"
    },
    {
     "ename": "AttributeError",
     "evalue": "'ProgressBarHandler' object has no attribute 'process'",
     "output_type": "error",
     "traceback": [
      "\u001b[0;31m---------------------------------------------------------------------------\u001b[0m",
      "\u001b[0;31mAttributeError\u001b[0m                            Traceback (most recent call last)",
      "\u001b[0;32m/tmp/ipykernel_53823/3930024139.py\u001b[0m in \u001b[0;36m<module>\u001b[0;34m\u001b[0m\n\u001b[1;32m      1\u001b[0m \u001b[0;32mwith\u001b[0m \u001b[0mWorkerPool\u001b[0m\u001b[0;34m(\u001b[0m\u001b[0;36m2\u001b[0m\u001b[0;34m,\u001b[0m \u001b[0mstart_method\u001b[0m\u001b[0;34m=\u001b[0m\u001b[0;34m'spawn'\u001b[0m\u001b[0;34m,\u001b[0m \u001b[0muse_dill\u001b[0m\u001b[0;34m=\u001b[0m\u001b[0;32mTrue\u001b[0m\u001b[0;34m)\u001b[0m \u001b[0;32mas\u001b[0m \u001b[0mpool\u001b[0m\u001b[0;34m:\u001b[0m\u001b[0;34m\u001b[0m\u001b[0;34m\u001b[0m\u001b[0m\n\u001b[0;32m----> 2\u001b[0;31m     \u001b[0mpool\u001b[0m\u001b[0;34m.\u001b[0m\u001b[0mmap\u001b[0m\u001b[0;34m(\u001b[0m\u001b[0msquare_2\u001b[0m\u001b[0;34m,\u001b[0m \u001b[0mrange\u001b[0m\u001b[0;34m(\u001b[0m\u001b[0;36m100\u001b[0m\u001b[0;34m)\u001b[0m\u001b[0;34m,\u001b[0m \u001b[0mprogress_bar\u001b[0m\u001b[0;34m=\u001b[0m\u001b[0;32mTrue\u001b[0m\u001b[0;34m,\u001b[0m \u001b[0mchunk_size\u001b[0m\u001b[0;34m=\u001b[0m\u001b[0;36m1\u001b[0m\u001b[0;34m)\u001b[0m\u001b[0;34m\u001b[0m\u001b[0;34m\u001b[0m\u001b[0m\n\u001b[0m",
      "\u001b[0;32m~/repos/mpire/mpire/pool.py\u001b[0m in \u001b[0;36mmap\u001b[0;34m(self, func, iterable_of_args, iterable_len, max_tasks_active, chunk_size, n_splits, worker_lifespan, progress_bar, progress_bar_position, concatenate_numpy_output, enable_insights, worker_init, worker_exit)\u001b[0m\n\u001b[1;32m    263\u001b[0m         \u001b[0;32mif\u001b[0m \u001b[0miterable_len\u001b[0m \u001b[0;32mis\u001b[0m \u001b[0;32mNone\u001b[0m \u001b[0;32mand\u001b[0m \u001b[0mhasattr\u001b[0m\u001b[0;34m(\u001b[0m\u001b[0miterable_of_args\u001b[0m\u001b[0;34m,\u001b[0m \u001b[0;34m'__len__'\u001b[0m\u001b[0;34m)\u001b[0m\u001b[0;34m:\u001b[0m\u001b[0;34m\u001b[0m\u001b[0;34m\u001b[0m\u001b[0m\n\u001b[1;32m    264\u001b[0m             \u001b[0miterable_len\u001b[0m \u001b[0;34m=\u001b[0m \u001b[0mlen\u001b[0m\u001b[0;34m(\u001b[0m\u001b[0miterable_of_args\u001b[0m\u001b[0;34m)\u001b[0m\u001b[0;34m\u001b[0m\u001b[0;34m\u001b[0m\u001b[0m\n\u001b[0;32m--> 265\u001b[0;31m         results = self.map_unordered(func, ((args_idx, args) for args_idx, args in enumerate(iterable_of_args)),\n\u001b[0m\u001b[1;32m    266\u001b[0m                                      \u001b[0miterable_len\u001b[0m\u001b[0;34m,\u001b[0m \u001b[0mmax_tasks_active\u001b[0m\u001b[0;34m,\u001b[0m \u001b[0mchunk_size\u001b[0m\u001b[0;34m,\u001b[0m \u001b[0mn_splits\u001b[0m\u001b[0;34m,\u001b[0m \u001b[0mworker_lifespan\u001b[0m\u001b[0;34m,\u001b[0m\u001b[0;34m\u001b[0m\u001b[0;34m\u001b[0m\u001b[0m\n\u001b[1;32m    267\u001b[0m                                      progress_bar, progress_bar_position, enable_insights, worker_init, worker_exit)\n",
      "\u001b[0;32m~/repos/mpire/mpire/pool.py\u001b[0m in \u001b[0;36mmap_unordered\u001b[0;34m(self, func, iterable_of_args, iterable_len, max_tasks_active, chunk_size, n_splits, worker_lifespan, progress_bar, progress_bar_position, enable_insights, worker_init, worker_exit)\u001b[0m\n\u001b[1;32m    322\u001b[0m         \"\"\"\n\u001b[1;32m    323\u001b[0m         \u001b[0;31m# Simply call imap and cast it to a list. This make sure all elements are there before returning\u001b[0m\u001b[0;34m\u001b[0m\u001b[0;34m\u001b[0m\u001b[0m\n\u001b[0;32m--> 324\u001b[0;31m         return list(self.imap_unordered(func, iterable_of_args, iterable_len, max_tasks_active, chunk_size,\n\u001b[0m\u001b[1;32m    325\u001b[0m                                         \u001b[0mn_splits\u001b[0m\u001b[0;34m,\u001b[0m \u001b[0mworker_lifespan\u001b[0m\u001b[0;34m,\u001b[0m \u001b[0mprogress_bar\u001b[0m\u001b[0;34m,\u001b[0m \u001b[0mprogress_bar_position\u001b[0m\u001b[0;34m,\u001b[0m\u001b[0;34m\u001b[0m\u001b[0;34m\u001b[0m\u001b[0m\n\u001b[1;32m    326\u001b[0m                                         enable_insights, worker_init, worker_exit))\n",
      "\u001b[0;32m~/repos/mpire/mpire/pool.py\u001b[0m in \u001b[0;36mimap_unordered\u001b[0;34m(self, func, iterable_of_args, iterable_len, max_tasks_active, chunk_size, n_splits, worker_lifespan, progress_bar, progress_bar_position, enable_insights, worker_init, worker_exit)\u001b[0m\n\u001b[1;32m    543\u001b[0m                     \u001b[0;31m# Terminate if exception has been thrown at this point\u001b[0m\u001b[0;34m\u001b[0m\u001b[0;34m\u001b[0m\u001b[0m\n\u001b[1;32m    544\u001b[0m                     \u001b[0;32mif\u001b[0m \u001b[0mself\u001b[0m\u001b[0;34m.\u001b[0m\u001b[0m_worker_comms\u001b[0m\u001b[0;34m.\u001b[0m\u001b[0mexception_thrown\u001b[0m\u001b[0;34m(\u001b[0m\u001b[0;34m)\u001b[0m\u001b[0;34m:\u001b[0m\u001b[0;34m\u001b[0m\u001b[0;34m\u001b[0m\u001b[0m\n\u001b[0;32m--> 545\u001b[0;31m                         \u001b[0mself\u001b[0m\u001b[0;34m.\u001b[0m\u001b[0m_handle_exception\u001b[0m\u001b[0;34m(\u001b[0m\u001b[0mprogress_bar_handler\u001b[0m\u001b[0;34m)\u001b[0m\u001b[0;34m\u001b[0m\u001b[0;34m\u001b[0m\u001b[0m\n\u001b[0m\u001b[1;32m    546\u001b[0m \u001b[0;34m\u001b[0m\u001b[0m\n\u001b[1;32m    547\u001b[0m                     \u001b[0;31m# All results are in: it's clean up time\u001b[0m\u001b[0;34m\u001b[0m\u001b[0;34m\u001b[0m\u001b[0m\n",
      "\u001b[0;32m~/repos/mpire/mpire/pool.py\u001b[0m in \u001b[0;36m_handle_exception\u001b[0;34m(self, progress_bar_handler)\u001b[0m\n\u001b[1;32m    598\u001b[0m         \u001b[0mself\u001b[0m\u001b[0;34m.\u001b[0m\u001b[0m_worker_comms\u001b[0m\u001b[0;34m.\u001b[0m\u001b[0mjoin_exception_queue\u001b[0m\u001b[0;34m(\u001b[0m\u001b[0;34m)\u001b[0m\u001b[0;34m\u001b[0m\u001b[0;34m\u001b[0m\u001b[0m\n\u001b[1;32m    599\u001b[0m         \u001b[0mlogger\u001b[0m\u001b[0;34m.\u001b[0m\u001b[0mdebug\u001b[0m\u001b[0;34m(\u001b[0m\u001b[0;34m\"Exception queue joined\"\u001b[0m\u001b[0;34m)\u001b[0m\u001b[0;34m\u001b[0m\u001b[0;34m\u001b[0m\u001b[0m\n\u001b[0;32m--> 600\u001b[0;31m         \u001b[0;32mif\u001b[0m \u001b[0mprogress_bar_handler\u001b[0m \u001b[0;32mand\u001b[0m \u001b[0mprogress_bar_handler\u001b[0m\u001b[0;34m.\u001b[0m\u001b[0mprocess\u001b[0m \u001b[0;32mis\u001b[0m \u001b[0;32mnot\u001b[0m \u001b[0;32mNone\u001b[0m\u001b[0;34m:\u001b[0m\u001b[0;34m\u001b[0m\u001b[0;34m\u001b[0m\u001b[0m\n\u001b[0m\u001b[1;32m    601\u001b[0m             \u001b[0mlogger\u001b[0m\u001b[0;34m.\u001b[0m\u001b[0mdebug\u001b[0m\u001b[0;34m(\u001b[0m\u001b[0;34m\"Joining progress bar handler\"\u001b[0m\u001b[0;34m)\u001b[0m\u001b[0;34m\u001b[0m\u001b[0;34m\u001b[0m\u001b[0m\n\u001b[1;32m    602\u001b[0m             \u001b[0mprogress_bar_handler\u001b[0m\u001b[0;34m.\u001b[0m\u001b[0mprocess\u001b[0m\u001b[0;34m.\u001b[0m\u001b[0mjoin\u001b[0m\u001b[0;34m(\u001b[0m\u001b[0;34m)\u001b[0m\u001b[0;34m\u001b[0m\u001b[0;34m\u001b[0m\u001b[0m\n",
      "\u001b[0;31mAttributeError\u001b[0m: 'ProgressBarHandler' object has no attribute 'process'"
     ]
    },
    {
     "name": "stdout",
     "output_type": "stream",
     "text": [
      "time: 5.66 s (started: 2021-11-22 13:08:22 +01:00)\n"
     ]
    }
   ],
   "source": [
    "with WorkerPool(2, start_method='spawn', use_dill=True) as pool:\n",
    "    pool.map(square_2, range(100), progress_bar=True, chunk_size=1)"
   ]
  },
  {
   "cell_type": "code",
   "execution_count": null,
   "id": "14ff1ce1-4c16-4da6-9758-307dd6e173c4",
   "metadata": {},
   "outputs": [],
   "source": []
  }
 ],
 "metadata": {
  "kernelspec": {
   "display_name": "Python 3 (ipykernel)",
   "language": "python",
   "name": "python3"
  },
  "language_info": {
   "codemirror_mode": {
    "name": "ipython",
    "version": 3
   },
   "file_extension": ".py",
   "mimetype": "text/x-python",
   "name": "python",
   "nbconvert_exporter": "python",
   "pygments_lexer": "ipython3",
   "version": "3.9.7"
  }
 },
 "nbformat": 4,
 "nbformat_minor": 5
}
